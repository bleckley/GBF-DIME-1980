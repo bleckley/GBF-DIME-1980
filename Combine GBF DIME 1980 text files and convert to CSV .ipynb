{
 "cells": [
  {
   "cell_type": "markdown",
   "metadata": {},
   "source": [
    "# Combining U.S. Census Bureau's GBF/DIME 1980 text files and converting to CSV\n",
    "\n",
    "The following description comes from the [Summary on ICPSR's study homepage:](https://www.icpsr.umich.edu/icpsrweb/ICPSR/studies/8378/summary) \n",
    "> A Geographic Base File is a map in machine-readable form, and Dual Independent Map Encoding is the method used for this collection to encode map features in data files. These files have been created for most metropolitan areas. GBF/DIME does not contain individual house addresses, names, or other means of identifying individuals, and it does not contain statistical information. This collection provides a means to structure, compare, and display data, and relate this information to small geographic areas. ICPSR also has the Special Program Information Tape (SPIT) produced by the Census Bureau (See ICPSR 8372), which contains several computer programs designed for use with the GBF/DIME files.\n",
    "\n",
    "## Access the ASCII files\n",
    "The Geographic Base File/Dual Independent Map Encoding (GBF/DIME), 1980 (ICPSR 8378) can be accessed here: https://www.icpsr.umich.edu/icpsrweb/ICPSR/studies/8378/datadocumentation#\n",
    "\n",
    "Downloading all the ASCII data files in a single download from this link https://www.icpsr.umich.edu/icpsrweb/ICPSR/studies/8378/versions/V1/download/ascii?path=/pcms/studies/0/0/8/3/08378/V1 will provide you with a ZIP file. When the ZIP file is extracted, there will be a nested directory structure with 324 dataset-specific ASCII files each in its own directory. \n",
    "\n",
    "\n",
    "## Combine the ASCII files\n",
    "This first section of code pulls each of the ASCII files from its own directory and adds it to a single tall file (herein named as '08378-all.txt.' The code takes into account the idiosyncracies of the datafiles' naming formats (while mostly named in consecutive numeric order, a few numbers are skipped, requiring some if statements in the for loop)."
   ]
  },
  {
   "cell_type": "code",
   "execution_count": 4,
   "metadata": {},
   "outputs": [
    {
     "name": "stdout",
     "output_type": "stream",
     "text": [
      "0001\n"
     ]
    },
    {
     "ename": "FileNotFoundError",
     "evalue": "[WinError 3] The system cannot find the path specified: '/ICPSR_08378/DS0001/'",
     "output_type": "error",
     "traceback": [
      "\u001b[1;31m---------------------------------------------------------------------------\u001b[0m",
      "\u001b[1;31mFileNotFoundError\u001b[0m                         Traceback (most recent call last)",
      "\u001b[1;32m<ipython-input-4-874c5c3b6fc6>\u001b[0m in \u001b[0;36m<module>\u001b[1;34m\u001b[0m\n\u001b[0;32m     25\u001b[0m     \u001b[0minfile\u001b[0m \u001b[1;33m=\u001b[0m \u001b[1;34m'08378-'\u001b[0m\u001b[1;33m+\u001b[0m\u001b[0mdsstr\u001b[0m\u001b[1;33m+\u001b[0m\u001b[1;34m'-Data.txt'\u001b[0m\u001b[1;33m\u001b[0m\u001b[1;33m\u001b[0m\u001b[0m\n\u001b[0;32m     26\u001b[0m     \u001b[0mwd\u001b[0m \u001b[1;33m=\u001b[0m \u001b[1;34m'/ICPSR_08378/DS'\u001b[0m\u001b[1;33m+\u001b[0m\u001b[0mdsstr\u001b[0m\u001b[1;33m+\u001b[0m\u001b[1;34m'/'\u001b[0m\u001b[1;33m\u001b[0m\u001b[1;33m\u001b[0m\u001b[0m\n\u001b[1;32m---> 27\u001b[1;33m     \u001b[0mos\u001b[0m\u001b[1;33m.\u001b[0m\u001b[0mchdir\u001b[0m\u001b[1;33m(\u001b[0m\u001b[0mwd\u001b[0m\u001b[1;33m)\u001b[0m\u001b[1;33m\u001b[0m\u001b[1;33m\u001b[0m\u001b[0m\n\u001b[0m\u001b[0;32m     28\u001b[0m     \u001b[1;31m#print(wd, infile)\u001b[0m\u001b[1;33m\u001b[0m\u001b[1;33m\u001b[0m\u001b[1;33m\u001b[0m\u001b[0m\n\u001b[0;32m     29\u001b[0m     \u001b[0mfhand\u001b[0m \u001b[1;33m=\u001b[0m \u001b[0mopen\u001b[0m\u001b[1;33m(\u001b[0m\u001b[0minfile\u001b[0m\u001b[1;33m,\u001b[0m \u001b[1;34m'r'\u001b[0m\u001b[1;33m)\u001b[0m\u001b[1;33m\u001b[0m\u001b[1;33m\u001b[0m\u001b[0m\n",
      "\u001b[1;31mFileNotFoundError\u001b[0m: [WinError 3] The system cannot find the path specified: '/ICPSR_08378/DS0001/'"
     ]
    }
   ],
   "source": [
    "#The following file pulls text files each stored in its own directory and writes to a single output file, creating a single tall file.\n",
    "\n",
    "\n",
    "#importing os to allow for changing working directory\n",
    "import os\n",
    "\n",
    "#assigning a filename for output and setting the dataset number to 1 to begin the while loop\n",
    "outfile = open('08378-all.txt', 'a', newline='')\n",
    "dsnum=1\n",
    "\n",
    "#beginning while loop to iterate through dataset 397\n",
    "while dsnum < 398:\n",
    "    \n",
    "    #creating a string version of the dataset number, prefixed with the correct number of zeros\n",
    "    if len(str(dsnum))==1:\n",
    "        dsstr='000'+str(dsnum)\n",
    "    elif len(str(dsnum))==2:\n",
    "        dsstr='00'+str(dsnum)\n",
    "    elif len(str(dsnum))==3:\n",
    "        dsstr='0'+str(dsnum)\n",
    "    else: break\n",
    "    print(dsstr)\n",
    "    \n",
    "    #assigning filename and filepath and calling in the text file (change directory reference as needed)\n",
    "    infile = '08378-'+dsstr+'-Data.txt'\n",
    "    wd = '/ICPSR_08378/DS'+dsstr+'/'\n",
    "    os.chdir(wd)\n",
    "    #print(wd, infile)\n",
    "    fhand = open(infile, 'r')\n",
    "    \n",
    "    #writing the lines of the input file to the end of the output file\n",
    "    for line in fhand :\n",
    "        outfile.write(line)\n",
    "\n",
    "    #moving forward to the next step in the loop. if statements needed to account for nonsequential DS numbers.\n",
    "    if dsnum in [188] : dsnum=dsnum+2\n",
    "    elif dsnum == 278 : dsnum = 351\n",
    "    else: dsnum=dsnum+1\n",
    "\n",
    "#closing the output file    \n",
    "outfile.close()   \n"
   ]
  },
  {
   "cell_type": "markdown",
   "metadata": {},
   "source": [
    "## Converting text to CSV\n",
    "The following section of code transforms the tall ASCII file output from the previous code into a CSV file. This code draws upon the codebook that is inlcuded in the download of the data.\n",
    "\n",
    "**Note: Some columns may have been ommitted. Please refer to the codebook from ICPSR for a full listing of variables/columns/fields."
   ]
  },
  {
   "cell_type": "code",
   "execution_count": 3,
   "metadata": {},
   "outputs": [
    {
     "ename": "FileNotFoundError",
     "evalue": "[Errno 2] No such file or directory: '/ICPSR_08378/08378-all.csv'",
     "output_type": "error",
     "traceback": [
      "\u001b[1;31m---------------------------------------------------------------------------\u001b[0m",
      "\u001b[1;31mFileNotFoundError\u001b[0m                         Traceback (most recent call last)",
      "\u001b[1;32m<ipython-input-3-21e17cc2b89d>\u001b[0m in \u001b[0;36m<module>\u001b[1;34m\u001b[0m\n\u001b[0;32m      4\u001b[0m \u001b[1;31m#Naming the text file to use for input and CSV file for ouput (change directory references as needed).\u001b[0m\u001b[1;33m\u001b[0m\u001b[1;33m\u001b[0m\u001b[1;33m\u001b[0m\u001b[0m\n\u001b[0;32m      5\u001b[0m \u001b[0minfile\u001b[0m \u001b[1;33m=\u001b[0m \u001b[1;34m'/ICPSR_08378/08378-all.txt'\u001b[0m\u001b[1;33m\u001b[0m\u001b[1;33m\u001b[0m\u001b[0m\n\u001b[1;32m----> 6\u001b[1;33m \u001b[0moutfile\u001b[0m \u001b[1;33m=\u001b[0m \u001b[0mopen\u001b[0m\u001b[1;33m(\u001b[0m\u001b[1;34m'/ICPSR_08378/08378-all.csv'\u001b[0m\u001b[1;33m,\u001b[0m \u001b[1;34m'w'\u001b[0m\u001b[1;33m,\u001b[0m \u001b[0mnewline\u001b[0m\u001b[1;33m=\u001b[0m\u001b[1;34m''\u001b[0m\u001b[1;33m)\u001b[0m\u001b[1;33m\u001b[0m\u001b[1;33m\u001b[0m\u001b[0m\n\u001b[0m\u001b[0;32m      7\u001b[0m \u001b[1;33m\u001b[0m\u001b[0m\n\u001b[0;32m      8\u001b[0m \u001b[1;31m#Getting the output file set up and adding the header row and explanation row.\u001b[0m\u001b[1;33m\u001b[0m\u001b[1;33m\u001b[0m\u001b[1;33m\u001b[0m\u001b[0m\n",
      "\u001b[1;31mFileNotFoundError\u001b[0m: [Errno 2] No such file or directory: '/ICPSR_08378/08378-all.csv'"
     ]
    }
   ],
   "source": [
    "import csv\n",
    "\n",
    "\n",
    "#Naming the text file to use for input and CSV file for ouput (change directory references as needed). \n",
    "infile = '/ICPSR_08378/08378-all.txt'\n",
    "outfile = open('/ICPSR_08378/08378-all.csv', 'w', newline='')\n",
    "\n",
    "#Getting the output file set up and adding the header row and explanation row.\n",
    "csvout = csv.writer(outfile, delimiter=',', quotechar='\"', quoting=csv.QUOTE_MINIMAL)\n",
    "csvout.writerow(['STPREDIR', 'STNAME', 'STTYPE', 'STSUFDIR', 'NONSTCO', 'MAPNO1', 'MAPNO2','MAPNO3',\n",
    "                 'MAPNO4','COFLAG', 'LEFTADD1', 'LEFTADD2', 'RGTADD1', 'RGTADD2', 'CENTRA1', 'CENTRA2',\n",
    "                 'CENTRA3', 'CENTRA4', 'ZIPCOLEF', 'ZIPCORGT', 'SMSA', 'PLACO1', 'PLACO2', 'STCOLEFT', \n",
    "                 'CNTCOLFT', 'MCDCCDL', 'BLKLEFT', 'STCORGT', 'CNTCORGT', 'MCDCCDR', 'BLOCKRGT', \n",
    "                 'STPLACO1', 'STPLACO2', 'FROMLAT', 'FROMLONG', 'TOLAT', 'TOLONG', 'STPLA1', 'STPLA2',\n",
    "                 'STPLA3', 'STPLA4', 'LEFTADD3', 'LEFTADD4', 'RGTADD3', 'RGTADD4'])\n",
    "csvout.writerow(['STREET PREFIX DIRECTION', 'STREET OR NON-STREET FEATURE NAME', 'STREET TYPE', \n",
    "                 'STREET SUFFIX DIRECTION', 'NON-STREET FEATURE CODE', 'FROM MAP (BASIC NUMBER)', \n",
    "                 'FROM MAP (SUFFIX)', 'FROM MAP (BASIC NUMBER)', 'FROM MAP (SUFFIX)','CODING LIMIT FLAG',\n",
    "                 'LEFT LOW ADDRESS (SEE FOOTNOTE 1)', 'LEFT HIGH ADDRESS (SEE FOOTNOTE 1)',\n",
    "                 'RIGHT LOW ADDRESS (SEE FOOTNOTE 1)', 'RIGHT HIGH ADDRESS (SEE FOOTNOTE 1)',\n",
    "                 'CENSUS TRACT LEFT (BASIC)', 'CENSUS TRACT LEFT (SUFFIX)', 'CENSUS TRACT RIGHT (BASIC)',\n",
    "                 'CENSUS TRACT RIGHT (SUFFIX)', 'ZIP CODE LEFT', 'ZIP CODE RIGHT', 'SMSA', \n",
    "                 'PLACE CODE LEFT', 'PLACE CODE RIGHT', 'FIPS STATE CODE LEFT', 'FIPS COUNTY CODE LEFT',\n",
    "                 'MINOR CIVIL DIVISION CODE/CENSUS COUNTY DIVISION CODE LEFT', 'BLOCK LEFT',\n",
    "                 'FIPS STATE CODE RIGHT', 'FIPS COUNTY CODE RIGHT', \n",
    "                 'MINOR CIVIL DIVISION CODE/CENSUS COUNTY DIVISION CODE RIGHT', 'BLOCK RIGHT',\n",
    "                 'FROM STATE PLANE CODE', 'TO STATE PLANE CODE', 'FROM LATITUDE (Y COORDINATE)',\n",
    "                 'FROM LONGITUDE (X COORDINATE)', 'TO LATITUDE (Y COORDINATE)', 'TO LONGITUDE (X COORDINATE)',\n",
    "                 'FROM STATE PLANE (Y COORDINATE)', 'FROM STATE PLANE (X COORDINATE)', \n",
    "                 'TO STATE PLANE (Y COORDINATE)', 'TO STATE PLANE (X COORDINATE)',\n",
    "                 'LEFT LOW ADDRESS (SELECTED AREAS OF CHICAGO, MILWAUKEE, AND SAN JUAN ONLY.)',\n",
    "                 'LEFT HIGH ADDRESS (SELECTED AREAS OF CHICAGO, MILWAUKEE, AND SAN JUAN ONLY.)',\n",
    "                 'RIGHT LOW ADDRESS (SELECTED AREAS OF CHICAGO, MILWAUKEE, AND SAN JUAN ONLY.)',\n",
    "                 'RIGHT HIGH ADDRESS (SELECTED AREAS OF CHICAGO, MILWAUKEE, AND SAN JUAN ONLY.)'])\n",
    "\n",
    "\n",
    "#Reading in the text file and splitting the fixed-width text to columns.\n",
    "fhand = open(infile)\n",
    "\n",
    "for line in fhand :\n",
    "    csvout.writerow([line[:2], line[2:22], line[22:26], line[26:28], line[28], line[45:48], \n",
    "                     line[48:50], line[50:53], line[53:55], line[55], line[56:62], line[62:68],\n",
    "                     line[68:74], line[74:80], line[91:95], line[95:97], line[97:101], \n",
    "                     line[101:103], line[103:108], line[108:113], line[113:117], line [130:134],\n",
    "                     line[134:138], line[138:140], line[140:143], line[143:146], line[151:154],\n",
    "                     line[157:159], line[159:162], line[162:165], line[170:173], line[176:178],\n",
    "                     line[178:180], line[204:210], line[210:217], line[217:223], line[223:230],\n",
    "                     line[230:237], line[237:244], line[244:251], line[251:258], line[258:268],\n",
    "                     line[268:278], line[278:288]])\n",
    "    \n",
    "outfile.close()"
   ]
  },
  {
   "cell_type": "code",
   "execution_count": null,
   "metadata": {},
   "outputs": [],
   "source": []
  }
 ],
 "metadata": {
  "kernelspec": {
   "display_name": "Python 3",
   "language": "python",
   "name": "python3"
  },
  "language_info": {
   "codemirror_mode": {
    "name": "ipython",
    "version": 3
   },
   "file_extension": ".py",
   "mimetype": "text/x-python",
   "name": "python",
   "nbconvert_exporter": "python",
   "pygments_lexer": "ipython3",
   "version": "3.6.8"
  }
 },
 "nbformat": 4,
 "nbformat_minor": 2
}
